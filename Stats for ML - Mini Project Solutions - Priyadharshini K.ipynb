{
 "cells": [
  {
   "cell_type": "code",
   "execution_count": 226,
   "id": "5c9a3cb0",
   "metadata": {},
   "outputs": [],
   "source": [
    "# type your code here\n",
    "# import 'pandas' \n",
    "import pandas as pd \n",
    "\n",
    "# import 'numpy' \n",
    "import numpy as np\n",
    "\n",
    "# import subpackage of matplotlib\n",
    "import matplotlib.pyplot as plt\n",
    "\n",
    "# import 'seaborn'\n",
    "import seaborn as sns\n",
    "\n",
    "# to suppress warnings \n",
    "from warnings import filterwarnings\n",
    "filterwarnings('ignore')\n",
    "\n",
    "# import 'random' to generate random sample\n",
    "import random\n",
    "\n",
    "# import statistics to perform statistical computation  \n",
    "import statistics\n",
    "\n",
    "# import 'stats' package from scipy library\n",
    "from scipy import stats\n",
    "\n",
    "# import a library to perform Z-test\n",
    "from statsmodels.stats import weightstats as stests\n",
    "\n",
    "# to test the normality \n",
    "from scipy.stats import shapiro\n",
    "\n",
    "# import the function to calculate the power of test\n",
    "from statsmodels.stats import power"
   ]
  },
  {
   "cell_type": "markdown",
   "id": "1a75303c",
   "metadata": {},
   "source": [
    "#### 1. Perform the following statistical analysis on the fifa world cup dataset. The dataset consists of player information which includes height, weight overall rating, potential etc. Data Cleaning and basic EDA process needs to be performed. "
   ]
  },
  {
   "cell_type": "code",
   "execution_count": 335,
   "id": "301a42f6",
   "metadata": {},
   "outputs": [
    {
     "data": {
      "text/html": [
       "<div>\n",
       "<style scoped>\n",
       "    .dataframe tbody tr th:only-of-type {\n",
       "        vertical-align: middle;\n",
       "    }\n",
       "\n",
       "    .dataframe tbody tr th {\n",
       "        vertical-align: top;\n",
       "    }\n",
       "\n",
       "    .dataframe thead th {\n",
       "        text-align: right;\n",
       "    }\n",
       "</style>\n",
       "<table border=\"1\" class=\"dataframe\">\n",
       "  <thead>\n",
       "    <tr style=\"text-align: right;\">\n",
       "      <th></th>\n",
       "      <th>Name</th>\n",
       "      <th>Age</th>\n",
       "      <th>Nationality</th>\n",
       "      <th>Overall_rating</th>\n",
       "      <th>Potential</th>\n",
       "      <th>Club</th>\n",
       "      <th>Preferred Foot</th>\n",
       "      <th>International Reputation</th>\n",
       "      <th>Weak Foot</th>\n",
       "      <th>Skill Moves</th>\n",
       "      <th>Work Rate</th>\n",
       "      <th>Position</th>\n",
       "      <th>Jersey Number</th>\n",
       "      <th>Height</th>\n",
       "      <th>Weight</th>\n",
       "    </tr>\n",
       "  </thead>\n",
       "  <tbody>\n",
       "    <tr>\n",
       "      <th>0</th>\n",
       "      <td>L. Messi</td>\n",
       "      <td>31</td>\n",
       "      <td>Argentina</td>\n",
       "      <td>94</td>\n",
       "      <td>94</td>\n",
       "      <td>FC Barcelona</td>\n",
       "      <td>Left</td>\n",
       "      <td>5</td>\n",
       "      <td>4</td>\n",
       "      <td>4</td>\n",
       "      <td>Medium/ Medium</td>\n",
       "      <td>RF</td>\n",
       "      <td>10</td>\n",
       "      <td>5.583333</td>\n",
       "      <td>159</td>\n",
       "    </tr>\n",
       "    <tr>\n",
       "      <th>1</th>\n",
       "      <td>Cristiano Ronaldo</td>\n",
       "      <td>33</td>\n",
       "      <td>Portugal</td>\n",
       "      <td>94</td>\n",
       "      <td>94</td>\n",
       "      <td>Juventus</td>\n",
       "      <td>Right</td>\n",
       "      <td>5</td>\n",
       "      <td>4</td>\n",
       "      <td>5</td>\n",
       "      <td>High/ Low</td>\n",
       "      <td>ST</td>\n",
       "      <td>7</td>\n",
       "      <td>6.166667</td>\n",
       "      <td>183</td>\n",
       "    </tr>\n",
       "    <tr>\n",
       "      <th>2</th>\n",
       "      <td>Neymar Jr</td>\n",
       "      <td>26</td>\n",
       "      <td>Brazil</td>\n",
       "      <td>92</td>\n",
       "      <td>93</td>\n",
       "      <td>Paris Saint-Germain</td>\n",
       "      <td>Right</td>\n",
       "      <td>5</td>\n",
       "      <td>5</td>\n",
       "      <td>5</td>\n",
       "      <td>High/ Medium</td>\n",
       "      <td>LW</td>\n",
       "      <td>10</td>\n",
       "      <td>5.750000</td>\n",
       "      <td>150</td>\n",
       "    </tr>\n",
       "    <tr>\n",
       "      <th>3</th>\n",
       "      <td>De Gea</td>\n",
       "      <td>27</td>\n",
       "      <td>Spain</td>\n",
       "      <td>91</td>\n",
       "      <td>93</td>\n",
       "      <td>Manchester United</td>\n",
       "      <td>Right</td>\n",
       "      <td>4</td>\n",
       "      <td>3</td>\n",
       "      <td>1</td>\n",
       "      <td>Medium/ Medium</td>\n",
       "      <td>GK</td>\n",
       "      <td>1</td>\n",
       "      <td>6.333333</td>\n",
       "      <td>168</td>\n",
       "    </tr>\n",
       "    <tr>\n",
       "      <th>4</th>\n",
       "      <td>K. De Bruyne</td>\n",
       "      <td>27</td>\n",
       "      <td>Belgium</td>\n",
       "      <td>91</td>\n",
       "      <td>92</td>\n",
       "      <td>Manchester City</td>\n",
       "      <td>Right</td>\n",
       "      <td>4</td>\n",
       "      <td>5</td>\n",
       "      <td>4</td>\n",
       "      <td>High/ High</td>\n",
       "      <td>RCM</td>\n",
       "      <td>7</td>\n",
       "      <td>5.083333</td>\n",
       "      <td>154</td>\n",
       "    </tr>\n",
       "  </tbody>\n",
       "</table>\n",
       "</div>"
      ],
      "text/plain": [
       "                Name  Age Nationality  Overall_rating  Potential  \\\n",
       "0           L. Messi   31   Argentina              94         94   \n",
       "1  Cristiano Ronaldo   33    Portugal              94         94   \n",
       "2          Neymar Jr   26      Brazil              92         93   \n",
       "3             De Gea   27       Spain              91         93   \n",
       "4       K. De Bruyne   27     Belgium              91         92   \n",
       "\n",
       "                  Club Preferred Foot  International Reputation  Weak Foot  \\\n",
       "0         FC Barcelona           Left                         5          4   \n",
       "1             Juventus          Right                         5          4   \n",
       "2  Paris Saint-Germain          Right                         5          5   \n",
       "3    Manchester United          Right                         4          3   \n",
       "4      Manchester City          Right                         4          5   \n",
       "\n",
       "   Skill Moves       Work Rate Position  Jersey Number    Height  Weight  \n",
       "0            4  Medium/ Medium       RF             10  5.583333     159  \n",
       "1            5       High/ Low       ST              7  6.166667     183  \n",
       "2            5    High/ Medium       LW             10  5.750000     150  \n",
       "3            1  Medium/ Medium       GK              1  6.333333     168  \n",
       "4            4      High/ High      RCM              7  5.083333     154  "
      ]
     },
     "execution_count": 335,
     "metadata": {},
     "output_type": "execute_result"
    }
   ],
   "source": [
    "fifa_df = pd.read_csv('fifa_stats.csv')\n",
    "fifa_df.head()"
   ]
  },
  {
   "cell_type": "code",
   "execution_count": 336,
   "id": "afc6782e",
   "metadata": {},
   "outputs": [
    {
     "data": {
      "text/html": [
       "<div>\n",
       "<style scoped>\n",
       "    .dataframe tbody tr th:only-of-type {\n",
       "        vertical-align: middle;\n",
       "    }\n",
       "\n",
       "    .dataframe tbody tr th {\n",
       "        vertical-align: top;\n",
       "    }\n",
       "\n",
       "    .dataframe thead th {\n",
       "        text-align: right;\n",
       "    }\n",
       "</style>\n",
       "<table border=\"1\" class=\"dataframe\">\n",
       "  <thead>\n",
       "    <tr style=\"text-align: right;\">\n",
       "      <th></th>\n",
       "      <th>total_missing</th>\n",
       "      <th>perc_missing</th>\n",
       "    </tr>\n",
       "  </thead>\n",
       "  <tbody>\n",
       "    <tr>\n",
       "      <th>Name</th>\n",
       "      <td>0</td>\n",
       "      <td>0.00</td>\n",
       "    </tr>\n",
       "    <tr>\n",
       "      <th>Age</th>\n",
       "      <td>0</td>\n",
       "      <td>0.00</td>\n",
       "    </tr>\n",
       "    <tr>\n",
       "      <th>Nationality</th>\n",
       "      <td>0</td>\n",
       "      <td>0.00</td>\n",
       "    </tr>\n",
       "    <tr>\n",
       "      <th>Overall_rating</th>\n",
       "      <td>0</td>\n",
       "      <td>0.00</td>\n",
       "    </tr>\n",
       "    <tr>\n",
       "      <th>Potential</th>\n",
       "      <td>0</td>\n",
       "      <td>0.00</td>\n",
       "    </tr>\n",
       "    <tr>\n",
       "      <th>Club</th>\n",
       "      <td>19</td>\n",
       "      <td>0.95</td>\n",
       "    </tr>\n",
       "    <tr>\n",
       "      <th>Preferred Foot</th>\n",
       "      <td>0</td>\n",
       "      <td>0.00</td>\n",
       "    </tr>\n",
       "    <tr>\n",
       "      <th>International Reputation</th>\n",
       "      <td>0</td>\n",
       "      <td>0.00</td>\n",
       "    </tr>\n",
       "    <tr>\n",
       "      <th>Weak Foot</th>\n",
       "      <td>0</td>\n",
       "      <td>0.00</td>\n",
       "    </tr>\n",
       "    <tr>\n",
       "      <th>Skill Moves</th>\n",
       "      <td>0</td>\n",
       "      <td>0.00</td>\n",
       "    </tr>\n",
       "    <tr>\n",
       "      <th>Work Rate</th>\n",
       "      <td>0</td>\n",
       "      <td>0.00</td>\n",
       "    </tr>\n",
       "    <tr>\n",
       "      <th>Position</th>\n",
       "      <td>0</td>\n",
       "      <td>0.00</td>\n",
       "    </tr>\n",
       "    <tr>\n",
       "      <th>Jersey Number</th>\n",
       "      <td>0</td>\n",
       "      <td>0.00</td>\n",
       "    </tr>\n",
       "    <tr>\n",
       "      <th>Height</th>\n",
       "      <td>0</td>\n",
       "      <td>0.00</td>\n",
       "    </tr>\n",
       "    <tr>\n",
       "      <th>Weight</th>\n",
       "      <td>0</td>\n",
       "      <td>0.00</td>\n",
       "    </tr>\n",
       "  </tbody>\n",
       "</table>\n",
       "</div>"
      ],
      "text/plain": [
       "                          total_missing  perc_missing\n",
       "Name                                  0          0.00\n",
       "Age                                   0          0.00\n",
       "Nationality                           0          0.00\n",
       "Overall_rating                        0          0.00\n",
       "Potential                             0          0.00\n",
       "Club                                 19          0.95\n",
       "Preferred Foot                        0          0.00\n",
       "International Reputation              0          0.00\n",
       "Weak Foot                             0          0.00\n",
       "Skill Moves                           0          0.00\n",
       "Work Rate                             0          0.00\n",
       "Position                              0          0.00\n",
       "Jersey Number                         0          0.00\n",
       "Height                                0          0.00\n",
       "Weight                                0          0.00"
      ]
     },
     "execution_count": 336,
     "metadata": {},
     "output_type": "execute_result"
    }
   ],
   "source": [
    "# Checking missing values in each column\n",
    "\n",
    "missing_data = pd.DataFrame({'total_missing': fifa_df.isnull().sum(), \n",
    "                             'perc_missing': (fifa_df.isnull().sum() / len(fifa_df)) * 100})\n",
    "\n",
    "missing_data"
   ]
  },
  {
   "cell_type": "code",
   "execution_count": 337,
   "id": "ee37c7d3",
   "metadata": {},
   "outputs": [
    {
     "name": "stdout",
     "output_type": "stream",
     "text": [
      "The percentage of data reduction is:  0.95\n",
      "The percentage of data remaining after dropping rows with missing values is: 99.05\n"
     ]
    }
   ],
   "source": [
    "# Dropping rows with missing data as the total percentage of missing data is less than 10% \n",
    "\n",
    "df = fifa_df.dropna()\n",
    "len(df) \n",
    "print(\"The percentage of data reduction is: \",((len(fifa_df) - len(df)) / len(fifa_df)) * 100)\n",
    "print(\"The percentage of data remaining after dropping rows with missing values is:\", 100 - ((len(fifa_df) - len(df)) / len(fifa_df)) * 100)"
   ]
  },
  {
   "cell_type": "code",
   "execution_count": 338,
   "id": "81212b7b",
   "metadata": {},
   "outputs": [
    {
     "data": {
      "text/html": [
       "<div>\n",
       "<style scoped>\n",
       "    .dataframe tbody tr th:only-of-type {\n",
       "        vertical-align: middle;\n",
       "    }\n",
       "\n",
       "    .dataframe tbody tr th {\n",
       "        vertical-align: top;\n",
       "    }\n",
       "\n",
       "    .dataframe thead th {\n",
       "        text-align: right;\n",
       "    }\n",
       "</style>\n",
       "<table border=\"1\" class=\"dataframe\">\n",
       "  <thead>\n",
       "    <tr style=\"text-align: right;\">\n",
       "      <th></th>\n",
       "      <th>Name</th>\n",
       "      <th>Age</th>\n",
       "      <th>Nationality</th>\n",
       "      <th>Overall_rating</th>\n",
       "      <th>Potential</th>\n",
       "      <th>Club</th>\n",
       "      <th>Preferred Foot</th>\n",
       "      <th>International Reputation</th>\n",
       "      <th>Weak Foot</th>\n",
       "      <th>Skill Moves</th>\n",
       "      <th>Work Rate</th>\n",
       "      <th>Position</th>\n",
       "      <th>Jersey Number</th>\n",
       "      <th>Height</th>\n",
       "      <th>Weight</th>\n",
       "    </tr>\n",
       "  </thead>\n",
       "  <tbody>\n",
       "    <tr>\n",
       "      <th>0</th>\n",
       "      <td>L. Messi</td>\n",
       "      <td>31</td>\n",
       "      <td>Argentina</td>\n",
       "      <td>94</td>\n",
       "      <td>94</td>\n",
       "      <td>FC Barcelona</td>\n",
       "      <td>Left</td>\n",
       "      <td>5</td>\n",
       "      <td>4</td>\n",
       "      <td>4</td>\n",
       "      <td>Medium/ Medium</td>\n",
       "      <td>RF</td>\n",
       "      <td>10</td>\n",
       "      <td>5.583333</td>\n",
       "      <td>159</td>\n",
       "    </tr>\n",
       "    <tr>\n",
       "      <th>1</th>\n",
       "      <td>Cristiano Ronaldo</td>\n",
       "      <td>33</td>\n",
       "      <td>Portugal</td>\n",
       "      <td>94</td>\n",
       "      <td>94</td>\n",
       "      <td>Juventus</td>\n",
       "      <td>Right</td>\n",
       "      <td>5</td>\n",
       "      <td>4</td>\n",
       "      <td>5</td>\n",
       "      <td>High/ Low</td>\n",
       "      <td>ST</td>\n",
       "      <td>7</td>\n",
       "      <td>6.166667</td>\n",
       "      <td>183</td>\n",
       "    </tr>\n",
       "    <tr>\n",
       "      <th>2</th>\n",
       "      <td>Neymar Jr</td>\n",
       "      <td>26</td>\n",
       "      <td>Brazil</td>\n",
       "      <td>92</td>\n",
       "      <td>93</td>\n",
       "      <td>Paris Saint-Germain</td>\n",
       "      <td>Right</td>\n",
       "      <td>5</td>\n",
       "      <td>5</td>\n",
       "      <td>5</td>\n",
       "      <td>High/ Medium</td>\n",
       "      <td>LW</td>\n",
       "      <td>10</td>\n",
       "      <td>5.750000</td>\n",
       "      <td>150</td>\n",
       "    </tr>\n",
       "    <tr>\n",
       "      <th>3</th>\n",
       "      <td>De Gea</td>\n",
       "      <td>27</td>\n",
       "      <td>Spain</td>\n",
       "      <td>91</td>\n",
       "      <td>93</td>\n",
       "      <td>Manchester United</td>\n",
       "      <td>Right</td>\n",
       "      <td>4</td>\n",
       "      <td>3</td>\n",
       "      <td>1</td>\n",
       "      <td>Medium/ Medium</td>\n",
       "      <td>GK</td>\n",
       "      <td>1</td>\n",
       "      <td>6.333333</td>\n",
       "      <td>168</td>\n",
       "    </tr>\n",
       "    <tr>\n",
       "      <th>4</th>\n",
       "      <td>K. De Bruyne</td>\n",
       "      <td>27</td>\n",
       "      <td>Belgium</td>\n",
       "      <td>91</td>\n",
       "      <td>92</td>\n",
       "      <td>Manchester City</td>\n",
       "      <td>Right</td>\n",
       "      <td>4</td>\n",
       "      <td>5</td>\n",
       "      <td>4</td>\n",
       "      <td>High/ High</td>\n",
       "      <td>RCM</td>\n",
       "      <td>7</td>\n",
       "      <td>5.083333</td>\n",
       "      <td>154</td>\n",
       "    </tr>\n",
       "  </tbody>\n",
       "</table>\n",
       "</div>"
      ],
      "text/plain": [
       "                Name  Age Nationality  Overall_rating  Potential  \\\n",
       "0           L. Messi   31   Argentina              94         94   \n",
       "1  Cristiano Ronaldo   33    Portugal              94         94   \n",
       "2          Neymar Jr   26      Brazil              92         93   \n",
       "3             De Gea   27       Spain              91         93   \n",
       "4       K. De Bruyne   27     Belgium              91         92   \n",
       "\n",
       "                  Club Preferred Foot  International Reputation  Weak Foot  \\\n",
       "0         FC Barcelona           Left                         5          4   \n",
       "1             Juventus          Right                         5          4   \n",
       "2  Paris Saint-Germain          Right                         5          5   \n",
       "3    Manchester United          Right                         4          3   \n",
       "4      Manchester City          Right                         4          5   \n",
       "\n",
       "   Skill Moves       Work Rate Position  Jersey Number    Height  Weight  \n",
       "0            4  Medium/ Medium       RF             10  5.583333     159  \n",
       "1            5       High/ Low       ST              7  6.166667     183  \n",
       "2            5    High/ Medium       LW             10  5.750000     150  \n",
       "3            1  Medium/ Medium       GK              1  6.333333     168  \n",
       "4            4      High/ High      RCM              7  5.083333     154  "
      ]
     },
     "execution_count": 338,
     "metadata": {},
     "output_type": "execute_result"
    }
   ],
   "source": [
    "df.head()"
   ]
  },
  {
   "cell_type": "markdown",
   "id": "f8726d2b",
   "metadata": {},
   "source": [
    "##### a) Assuming age as population, perform the central limit theorem with sample size of 200. Find the standard error and the mean of sampling distribution. Compare the results with population mean and standard deviation. Explain in non-technical terms why the estimated standard error of a sample mean tends to decrease with an increase in sample size\n"
   ]
  },
  {
   "cell_type": "code",
   "execution_count": 239,
   "id": "e1957aae",
   "metadata": {},
   "outputs": [
    {
     "data": {
      "image/png": "[encoded data removed]",
      "text/plain": [
       "<Figure size 432x288 with 1 Axes>"
      ]
     },
     "metadata": {
      "needs_background": "light"
     },
     "output_type": "display_data"
    }
   ],
   "source": [
    "sns.distplot(df['Age'])\n",
    "plt.show()                       # slightly right skewed data"
   ]
  },
  {
   "cell_type": "code",
   "execution_count": 267,
   "id": "8e0d5b5e",
   "metadata": {},
   "outputs": [],
   "source": [
    "sample_size= 200\n",
    "no_of_samples= 3000 \n",
    "sample_mean_list= [] \n",
    "\n",
    "for i in range(no_of_samples): \n",
    "    sample= np.random.choice(df['Age'], size= sample_size, replace= True) \n",
    "    sample_mean= np.mean(sample) \n",
    "    sample_mean_list.append(sample_mean)"
   ]
  },
  {
   "cell_type": "code",
   "execution_count": 268,
   "id": "38efba7e",
   "metadata": {},
   "outputs": [
    {
     "data": {
      "image/png": "[encoded data removed]",
      "text/plain": [
       "<Figure size 432x288 with 1 Axes>"
      ]
     },
     "metadata": {
      "needs_background": "light"
     },
     "output_type": "display_data"
    }
   ],
   "source": [
    "sns.distplot(sample_mean_list)\n",
    "plt.show()"
   ]
  },
  {
   "cell_type": "code",
   "execution_count": 273,
   "id": "5ebdf6d0",
   "metadata": {},
   "outputs": [
    {
     "name": "stdout",
     "output_type": "stream",
     "text": [
      "Standard error: 0.07033704467533643\n",
      "Mean of sampling distribution: 27.216426666666667\n",
      "\n",
      "Population mean: 27.215547703180214\n",
      "Population standard deviation: 3.8525185996930396\n"
     ]
    }
   ],
   "source": [
    "sigma = df['Age'].std() \n",
    "n = 3000 \n",
    "\n",
    "print(\"Standard error:\", sigma/(n**0.5))\n",
    "print(\"Mean of sampling distribution:\", np.mean(sample_mean_list))\n",
    "print() \n",
    "print(\"Population mean:\", df['Age'].mean())\n",
    "print(\"Population standard deviation:\", df['Age'].std())"
   ]
  },
  {
   "cell_type": "raw",
   "id": "44072928",
   "metadata": {},
   "source": [
    "Inference: \n",
    "    \n",
    "-> Mean of Sampling distribution is approximately equal to the mean of the population. \n",
    "-> Standard deviation of the Sampling distribution is inversely proportional to Sample Size.\n",
    "\n",
    "-> If there are two samples (s1, s2) extracted from a population of 150 data points (mu): \n",
    "    s1 - sample size of 10 data points\n",
    "    s2 - sample size of 100 data points. \n",
    "    \n",
    "    -> If the mean of sample s1 and sample s2 is calculated, based on respective sample size, it is sure and evident that mean of sample s1 (x1_bar) will be less than when compared to mean of sample s2 (x2_bar). \n",
    "    -> Standard error is the difference of sample mean with respect to actual population mean.\n",
    "    -> Here, the mean of sample s2 (x2_bar) will be closer to the population mean (mu) thus having very low standard error as the sample size of sample s2 is larger compared to sample size of sample s2. \n",
    "    -> Hence, sample s2 will reflect most of the properties of population as it's size is closer to population length. \n",
    "    \n",
    "-> Thus, we could say that the estimated standard error of a sample mean tends to decrease with an increase in sample size."
   ]
  },
  {
   "cell_type": "markdown",
   "id": "71b69ee9",
   "metadata": {},
   "source": [
    "##### b) Is there any evidence that the players overall rating is greater than 80?"
   ]
  },
  {
   "cell_type": "code",
   "execution_count": 289,
   "id": "93f5cba5",
   "metadata": {},
   "outputs": [
    {
     "name": "stdout",
     "output_type": "stream",
     "text": [
      "Shapiro test on Overall rating sample:\n",
      " ShapiroResult(statistic=0.8532959818840027, pvalue=1.721150444000814e-39) \n",
      "\n",
      "\n",
      "Transformed values: [0.07016879 0.07016879 0.07016879 ... 0.07016879 0.07016879 0.07016879]\n",
      "Lambda/power value: -14.251349344860774 \n",
      "\n",
      "\n",
      "After transforming the claimed population mean value, mu: 7.557875971848567e-28 \n",
      "\n",
      "\n",
      "Shapiro test on transformed Overall Rating sample:\n",
      " ShapiroResult(statistic=1.0, pvalue=1.0)\n"
     ]
    }
   ],
   "source": [
    "# Test of Normality of data: \n",
    "\n",
    "# Hypothesis formation for Shapiro test:\n",
    "# Ho: skew = 0 (Data is normal) \n",
    "# Ha: skew != 0 (Data is not normal) \n",
    "print(\"Shapiro test on Overall rating sample:\\n\",stats.shapiro(df['Overall_rating']),'\\n\\n')\n",
    "\n",
    "# Inference: \n",
    "# pValue (0) < 0.05 significance value. \n",
    "# Hence, Ha can be selected and so data is not normal\n",
    "\n",
    "\n",
    "\n",
    "\n",
    "\n",
    "# Hence, transformation process can be applied on 'Overall Rating' feature to bring the distribution close to normal. \n",
    "# BoxCox transformation: \n",
    "tr, lam = stats.boxcox(df['Overall_rating'])\n",
    "print(\"Transformed values:\", tr)\n",
    "print(\"Lambda/power value:\", lam,'\\n\\n') \n",
    "\n",
    "# Since, we have the transformed values, the claimed mean (mu = 80) is transformed based on the same lambda value.\n",
    "mu = np.power(80, lam)\n",
    "print(\"After transforming the claimed population mean value, mu:\", mu,'\\n\\n') \n",
    "\n",
    "\n",
    "\n",
    "\n",
    "\n",
    "\n",
    "# Hypothesis formation for Shapiro test after transformation:\n",
    "# Ho: skew = 0 (Data is normal) \n",
    "# Ha: skew != 0 (Data is not normal) \n",
    "print(\"Shapiro test on transformed Overall Rating sample:\\n\",stats.shapiro(tr))\n",
    "\n",
    "# Inference: \n",
    "# pValue (1.0) > 0.05 significance value. \n",
    "# Hence, Ho can be selected and so now data is normal"
   ]
  },
  {
   "cell_type": "code",
   "execution_count": 291,
   "id": "a88991ad",
   "metadata": {},
   "outputs": [
    {
     "name": "stdout",
     "output_type": "stream",
     "text": [
      "Test statistics value, t:  inf\n",
      "Probability value, pValue:  0.0\n"
     ]
    }
   ],
   "source": [
    "# Hypothesis Formation for One Sample t test:\n",
    "# Ho: mu = 0\n",
    "# Ha: mu != 0 \n",
    "\n",
    "\n",
    "\n",
    "# Choosing the right test:\n",
    "# 1) Data is normal.\n",
    "# 2) Population standard deviation is not known.\n",
    "\n",
    "# Hence, One sample t test can be applied. \n",
    "\n",
    "\n",
    "\n",
    "\n",
    "# Test Statistics:\n",
    "x_bar = np.mean(tr) \n",
    "s = np.std(tr, ddof= 1)\n",
    "n = len(tr) \n",
    "mu = 0 \n",
    "\n",
    "t = (x_bar - mu) / (s/n**0.5)\n",
    "print(\"Test statistics value, t: \", t)\n",
    "\n",
    "\n",
    "\n",
    "# pValue\n",
    "pval = stats.t.sf(abs(t), df = n-1) * 2 \n",
    "print(\"Probability value, pValue: \", pval)"
   ]
  },
  {
   "cell_type": "raw",
   "id": "fab73eba",
   "metadata": {},
   "source": [
    "Inference: \n",
    "    \n",
    "-> pValue 0 < 0.05 Significance level. \n",
    "-> As the pValue is less than significance level, Ho is rejected and Ha can be selected (mu != 0).\n",
    "-> So we infer that the average overall rating is not equal to 80. \n",
    "-> Test statistics (t) value is positive and so it depicts that the average overall rating is greater than 80 as claimed."
   ]
  },
  {
   "cell_type": "markdown",
   "id": "0640bb22",
   "metadata": {},
   "source": [
    "##### c) Perform the statistical test to identify whether preferred foot has any impact on potential. Also, perform the graphical analysis."
   ]
  },
  {
   "cell_type": "code",
   "execution_count": 293,
   "id": "1f9475ae",
   "metadata": {},
   "outputs": [
    {
     "data": {
      "text/plain": [
       "Right    1519\n",
       "Left      462\n",
       "Name: Preferred Foot, dtype: int64"
      ]
     },
     "execution_count": 293,
     "metadata": {},
     "output_type": "execute_result"
    }
   ],
   "source": [
    "df['Preferred Foot'].value_counts()"
   ]
  },
  {
   "cell_type": "code",
   "execution_count": 297,
   "id": "a4cb449c",
   "metadata": {},
   "outputs": [],
   "source": [
    "rfoot_pot = df[df['Preferred Foot'] == 'Right']['Potential'] \n",
    "lfoot_pot = df[df['Preferred Foot'] == 'Left']['Potential'] "
   ]
  },
  {
   "cell_type": "code",
   "execution_count": 305,
   "id": "f5e95154",
   "metadata": {},
   "outputs": [
    {
     "name": "stdout",
     "output_type": "stream",
     "text": [
      "Shapiro test on rfoot_pot sample:\n",
      " ShapiroResult(statistic=0.9373535513877869, pvalue=8.425229710834448e-25)\n",
      "Shapiro test on lfoot_pot sample:\n",
      " ShapiroResult(statistic=0.9437844157218933, pvalue=3.187897645515192e-12) \n",
      "\n",
      "\n",
      "Shapiro test on transformed rfoot_pot sample:\n",
      " ShapiroResult(statistic=1.0, pvalue=1.0)\n",
      "Shapiro test on transformed lfoot_pot sample:\n",
      " ShapiroResult(statistic=1.0, pvalue=1.0)\n"
     ]
    }
   ],
   "source": [
    "# Test of Normality of data: \n",
    "\n",
    "# Hypothesis formation for Shapiro test:\n",
    "# Ho: skew = 0 (Data is normal) \n",
    "# Ha: skew != 0 (Data is not normal) \n",
    "print(\"Shapiro test on rfoot_pot sample:\\n\",stats.shapiro(rfoot_pot))\n",
    "print(\"Shapiro test on lfoot_pot sample:\\n\",stats.shapiro(lfoot_pot),'\\n\\n')\n",
    "\n",
    "# Inference: \n",
    "# pValue of both samples (0, 0) < 0.05 significance value. \n",
    "# Hence, Ha can be selected and so data is not normal \n",
    "\n",
    "\n",
    "\n",
    "\n",
    "\n",
    "# Hence, transformation process can be applied on both samples to bring the distribution close to normal. \n",
    "# BoxCox transformation: \n",
    "tr1, lam1 = stats.boxcox(rfoot_pot)\n",
    "tr2, lam2 = stats.boxcox(lfoot_pot)\n",
    "\n",
    "\n",
    "\n",
    "\n",
    "\n",
    "# Hypothesis formation for Shapiro test after transformation:\n",
    "# Ho: skew = 0 (Data is normal) \n",
    "# Ha: skew != 0 (Data is not normal) \n",
    "print(\"Shapiro test on transformed rfoot_pot sample:\\n\",stats.shapiro(tr1))\n",
    "print(\"Shapiro test on transformed lfoot_pot sample:\\n\",stats.shapiro(tr2))\n",
    "\n",
    "\n",
    "# Inference: \n",
    "# pValue (1.0) > 0.05 significance value. \n",
    "# Hence, Ho can be selected and so now data is normal"
   ]
  },
  {
   "cell_type": "code",
   "execution_count": 306,
   "id": "9b7569db",
   "metadata": {},
   "outputs": [
    {
     "name": "stdout",
     "output_type": "stream",
     "text": [
      "Test statistics value, t:  -29241418708.931744\n",
      "Probability value, pValue:  0.0\n"
     ]
    }
   ],
   "source": [
    "# Hypothesis Formation: \n",
    "# Ho: mu1 (average potential of right foot prefered players) = mu2 (average potential of left foot prefered players) \n",
    "# Ha: mu1 (average potential of right foot prefered players) != mu2 (average potential of left foot prefered players)\n",
    "\n",
    "# Ho: mu1 - m2 = 0\n",
    "# Ha: mu1 - mu2 != 0\n",
    "\n",
    "\n",
    "\n",
    "# Choosing the right test \n",
    "# 1) Data is normal \n",
    "# 2) Population standard deviation is not known \n",
    "# 3) Data is unpaired\n",
    "\n",
    "# Hence, Two sample unpaired  t test can be applied. \n",
    "\n",
    "\n",
    "\n",
    "\n",
    "# Test Statistics: \n",
    "x1_bar = np.mean(tr1) \n",
    "x2_bar = np.mean(tr2)\n",
    "s1 = np.std(tr1, ddof=1) \n",
    "s2 = np.std(tr2, ddof=1)\n",
    "n1 = len(tr1) \n",
    "n2 = len(tr2) \n",
    "df1 = n1 - 1\n",
    "df2 = n2 - 1 \n",
    "df_tot = df1 + df2 \n",
    "\n",
    "\n",
    "sp_var = ((df1 * s1**2) + (df2 * s2**2)) / df_tot\n",
    "\n",
    "num = (x1_bar - x2_bar) - 0 \n",
    "den = np.sqrt(sp_var * (1/n1 + 1/n2))\n",
    "\n",
    "t = num / den\n",
    "print(\"Test statistics value, t: \", t)\n",
    "\n",
    "\n",
    "\n",
    "\n",
    "# pValue:\n",
    "pval = stats.t.sf(abs(t), df = df_tot) * 2 \n",
    "print(\"Probability value, pValue: \", pval)"
   ]
  },
  {
   "cell_type": "raw",
   "id": "cec86730",
   "metadata": {},
   "source": [
    "Inference: \n",
    "\n",
    "-> pValue 0 < 0.05 Significance Value\n",
    "-> As the pValue is less than significance level, Ho is rejected and Ha can be selected. \n",
    "-> Test statistics (t) is negative and so average potential of right foot preferred players is less than the average potential of right foot preferred players. \n",
    "-> Hence we can claim that preferred foot does have an impact on the potential of the players."
   ]
  },
  {
   "cell_type": "markdown",
   "id": "4670888a",
   "metadata": {},
   "source": [
    "##### d) Perform the statistical test to identify the relation between the overall rating and potential. [Assume both are continuous data points]."
   ]
  },
  {
   "cell_type": "code",
   "execution_count": 309,
   "id": "b7f0984d",
   "metadata": {},
   "outputs": [
    {
     "data": {
      "text/html": [
       "<div>\n",
       "<style scoped>\n",
       "    .dataframe tbody tr th:only-of-type {\n",
       "        vertical-align: middle;\n",
       "    }\n",
       "\n",
       "    .dataframe tbody tr th {\n",
       "        vertical-align: top;\n",
       "    }\n",
       "\n",
       "    .dataframe thead th {\n",
       "        text-align: right;\n",
       "    }\n",
       "</style>\n",
       "<table border=\"1\" class=\"dataframe\">\n",
       "  <thead>\n",
       "    <tr style=\"text-align: right;\">\n",
       "      <th></th>\n",
       "      <th>Overall_rating</th>\n",
       "      <th>Potential</th>\n",
       "    </tr>\n",
       "  </thead>\n",
       "  <tbody>\n",
       "    <tr>\n",
       "      <th>Overall_rating</th>\n",
       "      <td>1.000000</td>\n",
       "      <td>0.732086</td>\n",
       "    </tr>\n",
       "    <tr>\n",
       "      <th>Potential</th>\n",
       "      <td>0.732086</td>\n",
       "      <td>1.000000</td>\n",
       "    </tr>\n",
       "  </tbody>\n",
       "</table>\n",
       "</div>"
      ],
      "text/plain": [
       "                Overall_rating  Potential\n",
       "Overall_rating        1.000000   0.732086\n",
       "Potential             0.732086   1.000000"
      ]
     },
     "execution_count": 309,
     "metadata": {},
     "output_type": "execute_result"
    }
   ],
   "source": [
    "df[['Overall_rating','Potential']].corr()"
   ]
  },
  {
   "cell_type": "code",
   "execution_count": 311,
   "id": "8076337a",
   "metadata": {},
   "outputs": [
    {
     "name": "stdout",
     "output_type": "stream",
     "text": [
      "Shapiro test on transformed Overall Rating sample:\n",
      " ShapiroResult(statistic=1.0, pvalue=1.0) \n",
      "\n",
      "Shapiro test on transformed Potential sample:\n",
      " ShapiroResult(statistic=1.0, pvalue=1.0)\n"
     ]
    }
   ],
   "source": [
    "# Based on the analysis, we could see that the data of Overall_rating and Potential do not follow normality. \n",
    "# Hence we transform the data to bring the data closer to normal distribution using BoxCox transformation.\n",
    "\n",
    "# BoxCox transformation: \n",
    "tr1, lam1 = stats.boxcox(df['Overall_rating'])\n",
    "tr2, lam2 = stats.boxcox(df['Potential'])\n",
    "\n",
    "\n",
    "\n",
    "\n",
    "# Hypothesis formation for Shapiro test after transformation:\n",
    "# Ho: skew = 0 (Data is normal) \n",
    "# Ha: skew != 0 (Data is not normal) \n",
    "print(\"Shapiro test on transformed Overall Rating sample:\\n\",stats.shapiro(tr1),'\\n')\n",
    "print(\"Shapiro test on transformed Potential sample:\\n\",stats.shapiro(tr2))\n",
    "\n",
    "# Inference: \n",
    "# pValue (1.0) > 0.05 significance value. \n",
    "# Hence, Ho can be selected and so now data is normal"
   ]
  },
  {
   "cell_type": "code",
   "execution_count": 313,
   "id": "715c36b2",
   "metadata": {},
   "outputs": [
    {
     "data": {
      "text/plain": [
       "(nan, nan)"
      ]
     },
     "execution_count": 313,
     "metadata": {},
     "output_type": "execute_result"
    }
   ],
   "source": [
    "# Hypothesis formation for Pearson r Correlation: \n",
    "# Ho : corr = 0 (no relation)\n",
    "# Ha : corr != 0 (relation exists) \n",
    "\n",
    "\n",
    "# Choosing the right test: \n",
    "# 1) Data should follow normal distribution. \n",
    "\n",
    "stats.pearsonr(np.array(tr1), np.array(tr2))"
   ]
  },
  {
   "cell_type": "raw",
   "id": "f45b9638",
   "metadata": {},
   "source": [
    "Inference: \n",
    "\n",
    "-> The NaN, in this case, is interpreted as no correlation between the two variables. \n",
    "-> The correlation describes how much one variable changes as the other variable changes. That requires both variables to change.\n",
    "-> Reason for this is that one of the input must have identical values. When each value of an input is identical, the result is a vector of 0s. When it is divided by zero, the result will be NaN. \n",
    "-> Hence, there is no relation between the Overall Rating and Potential of the players"
   ]
  },
  {
   "cell_type": "markdown",
   "id": "6f6a7e95",
   "metadata": {},
   "source": [
    "##### e) Does skill move have any effect in overall rating. Perform the graphical analysis and the statistical analysis."
   ]
  },
  {
   "cell_type": "code",
   "execution_count": 320,
   "id": "577960f3",
   "metadata": {},
   "outputs": [
    {
     "data": {
      "text/plain": [
       "3    818\n",
       "4    540\n",
       "2    392\n",
       "1    192\n",
       "5     39\n",
       "Name: Skill Moves, dtype: int64"
      ]
     },
     "execution_count": 320,
     "metadata": {},
     "output_type": "execute_result"
    }
   ],
   "source": [
    "df['Skill Moves'].value_counts()"
   ]
  },
  {
   "cell_type": "code",
   "execution_count": 339,
   "id": "7a0252e8",
   "metadata": {},
   "outputs": [],
   "source": [
    "# Based on previous analysis, since Overall_rating does not follow normality, BoxCox transformation is applied.\n",
    "\n",
    "tr, lam = stats.boxcox(df['Overall_rating'])"
   ]
  },
  {
   "cell_type": "code",
   "execution_count": 343,
   "id": "9126826d",
   "metadata": {},
   "outputs": [],
   "source": [
    "df['tr_Overall_Rating'] = pd.Series(tr)"
   ]
  },
  {
   "cell_type": "code",
   "execution_count": 346,
   "id": "b1ae9179",
   "metadata": {},
   "outputs": [],
   "source": [
    "sk1_rating = df[df['Skill Moves'] == 1]['tr_Overall_Rating']\n",
    "sk2_rating = df[df['Skill Moves'] == 2]['tr_Overall_Rating']\n",
    "sk3_rating = df[df['Skill Moves'] == 3]['tr_Overall_Rating']\n",
    "sk4_rating = df[df['Skill Moves'] == 4]['tr_Overall_Rating']\n",
    "sk5_rating = df[df['Skill Moves'] == 5]['tr_Overall_Rating']"
   ]
  },
  {
   "cell_type": "code",
   "execution_count": 352,
   "id": "69f10158",
   "metadata": {},
   "outputs": [
    {
     "name": "stdout",
     "output_type": "stream",
     "text": [
      "Shapiro test on sk1_rating sample:\n",
      " ShapiroResult(statistic=nan, pvalue=1.0)\n",
      "Shapiro test on sk2_rating sample:\n",
      " ShapiroResult(statistic=nan, pvalue=1.0)\n",
      "Shapiro test on sk3_rating sample:\n",
      " ShapiroResult(statistic=nan, pvalue=1.0)\n",
      "Shapiro test on sk4_rating sample:\n",
      " ShapiroResult(statistic=nan, pvalue=1.0)\n",
      "Shapiro test on sk5_rating sample:\n",
      " ShapiroResult(statistic=nan, pvalue=1.0)\n",
      "\n",
      "Test of variance for all five skill moves samples:\n",
      " LeveneResult(statistic=nan, pvalue=nan)\n"
     ]
    }
   ],
   "source": [
    "# Test of Normality of data: \n",
    "\n",
    "# Hypothesis formation for Shapiro test on trasformed Overall_rating sample:\n",
    "# Ho: skew = 0 (Data is normal) \n",
    "# Ha: skew != 0 (Data is not normal) \n",
    "print(\"Shapiro test on sk1_rating sample:\\n\",stats.shapiro(sk1_rating))\n",
    "print(\"Shapiro test on sk2_rating sample:\\n\",stats.shapiro(sk2_rating))\n",
    "print(\"Shapiro test on sk3_rating sample:\\n\",stats.shapiro(sk3_rating))\n",
    "print(\"Shapiro test on sk4_rating sample:\\n\",stats.shapiro(sk4_rating))\n",
    "print(\"Shapiro test on sk5_rating sample:\\n\",stats.shapiro(sk5_rating)) \n",
    "\n",
    "# Inference: \n",
    "# pValue (1.0) > 0.05 significance value \n",
    "# Hence, Ho can be selected and so now data is normal \n",
    "\n",
    "\n",
    "\n",
    "\n",
    "# Test for equality of variance: \n",
    "\n",
    "# Hypothesis formation for Levene test: \n",
    "# Ho: All variances are equal\n",
    "# Ha: Atleast one variance is different \n",
    "print()\n",
    "print(\"Test of variance for all five skill moves samples:\\n\", stats.levene(sk1_rating, sk2_rating, sk3_rating, sk4_rating, sk5_rating)) \n",
    "\n",
    "# Inference: \n",
    "# pValue of Levene test of overall rating for each skill move is returned as 'Nan'.\n",
    "# Hence, Ha is selected and so atleast one variance is different."
   ]
  },
  {
   "cell_type": "code",
   "execution_count": 361,
   "id": "21bcee82",
   "metadata": {},
   "outputs": [
    {
     "data": {
      "text/plain": [
       "F_onewayResult(statistic=nan, pvalue=nan)"
      ]
     },
     "execution_count": 361,
     "metadata": {},
     "output_type": "execute_result"
    }
   ],
   "source": [
    "# Hypothesis for ANOVA: \n",
    "# Ho: All means are equal (no relation) \n",
    "# Ha: Atleast one mean is different (relation exists) \n",
    "\n",
    "\n",
    "# Choosing the right test: \n",
    "# 1) Data is normal \n",
    "# 2) All variances are different. \n",
    "\n",
    "# Hence, One Way Anova test cannot be applied."
   ]
  },
  {
   "cell_type": "markdown",
   "id": "a3cec084",
   "metadata": {},
   "source": [
    "#### 2. Perform the following statistical analysis on the mobile network dataset given. The given data set contains information about the internet, calls, messages of various network. Data Cleaning and basic EDA process needs to be performed."
   ]
  },
  {
   "cell_type": "code",
   "execution_count": 227,
   "id": "5816ae71",
   "metadata": {},
   "outputs": [
    {
     "data": {
      "text/html": [
       "<div>\n",
       "<style scoped>\n",
       "    .dataframe tbody tr th:only-of-type {\n",
       "        vertical-align: middle;\n",
       "    }\n",
       "\n",
       "    .dataframe tbody tr th {\n",
       "        vertical-align: top;\n",
       "    }\n",
       "\n",
       "    .dataframe thead th {\n",
       "        text-align: right;\n",
       "    }\n",
       "</style>\n",
       "<table border=\"1\" class=\"dataframe\">\n",
       "  <thead>\n",
       "    <tr style=\"text-align: right;\">\n",
       "      <th></th>\n",
       "      <th>date</th>\n",
       "      <th>duration</th>\n",
       "      <th>item</th>\n",
       "      <th>month</th>\n",
       "      <th>network</th>\n",
       "      <th>network_type</th>\n",
       "    </tr>\n",
       "  </thead>\n",
       "  <tbody>\n",
       "    <tr>\n",
       "      <th>0</th>\n",
       "      <td>15-10-14 6:58</td>\n",
       "      <td>221.321120</td>\n",
       "      <td>data</td>\n",
       "      <td>2014-11</td>\n",
       "      <td>data</td>\n",
       "      <td>data</td>\n",
       "    </tr>\n",
       "    <tr>\n",
       "      <th>1</th>\n",
       "      <td>15-10-14 6:58</td>\n",
       "      <td>81.610599</td>\n",
       "      <td>call</td>\n",
       "      <td>2014-11</td>\n",
       "      <td>Vodafone</td>\n",
       "      <td>mobile</td>\n",
       "    </tr>\n",
       "    <tr>\n",
       "      <th>2</th>\n",
       "      <td>15-10-14 14:46</td>\n",
       "      <td>143.109111</td>\n",
       "      <td>call</td>\n",
       "      <td>2014-11</td>\n",
       "      <td>Meteor</td>\n",
       "      <td>mobile</td>\n",
       "    </tr>\n",
       "    <tr>\n",
       "      <th>3</th>\n",
       "      <td>15-10-14 14:48</td>\n",
       "      <td>111.888670</td>\n",
       "      <td>call</td>\n",
       "      <td>2014-11</td>\n",
       "      <td>Tesco</td>\n",
       "      <td>mobile</td>\n",
       "    </tr>\n",
       "    <tr>\n",
       "      <th>4</th>\n",
       "      <td>15-10-14 17:27</td>\n",
       "      <td>246.695171</td>\n",
       "      <td>call</td>\n",
       "      <td>2014-11</td>\n",
       "      <td>Tesco</td>\n",
       "      <td>mobile</td>\n",
       "    </tr>\n",
       "  </tbody>\n",
       "</table>\n",
       "</div>"
      ],
      "text/plain": [
       "             date    duration  item    month   network network_type\n",
       "0   15-10-14 6:58  221.321120  data  2014-11      data         data\n",
       "1   15-10-14 6:58   81.610599  call  2014-11  Vodafone       mobile\n",
       "2  15-10-14 14:46  143.109111  call  2014-11    Meteor       mobile\n",
       "3  15-10-14 14:48  111.888670  call  2014-11     Tesco       mobile\n",
       "4  15-10-14 17:27  246.695171  call  2014-11     Tesco       mobile"
      ]
     },
     "execution_count": 227,
     "metadata": {},
     "output_type": "execute_result"
    }
   ],
   "source": [
    "phone_df = pd.read_csv('phone.csv')\n",
    "phone_df.head()"
   ]
  },
  {
   "cell_type": "code",
   "execution_count": 228,
   "id": "799ca101",
   "metadata": {},
   "outputs": [
    {
     "name": "stdout",
     "output_type": "stream",
     "text": [
      "<class 'pandas.core.frame.DataFrame'>\n",
      "RangeIndex: 820 entries, 0 to 819\n",
      "Data columns (total 6 columns):\n",
      " #   Column        Non-Null Count  Dtype  \n",
      "---  ------        --------------  -----  \n",
      " 0   date          820 non-null    object \n",
      " 1   duration      820 non-null    float64\n",
      " 2   item          820 non-null    object \n",
      " 3   month         820 non-null    object \n",
      " 4   network       820 non-null    object \n",
      " 5   network_type  820 non-null    object \n",
      "dtypes: float64(1), object(5)\n",
      "memory usage: 38.6+ KB\n"
     ]
    }
   ],
   "source": [
    "phone_df.info()       # There are no missing values in the given dataset."
   ]
  },
  {
   "cell_type": "code",
   "execution_count": 229,
   "id": "5cd2241f",
   "metadata": {},
   "outputs": [],
   "source": [
    "## Converting datatype of column 'date':\n",
    "\n",
    "phone_df['date'] = pd.to_datetime(phone_df['date'])"
   ]
  },
  {
   "cell_type": "code",
   "execution_count": 230,
   "id": "fd6d0c0f",
   "metadata": {},
   "outputs": [
    {
     "name": "stdout",
     "output_type": "stream",
     "text": [
      "<class 'pandas.core.frame.DataFrame'>\n",
      "RangeIndex: 820 entries, 0 to 819\n",
      "Data columns (total 6 columns):\n",
      " #   Column        Non-Null Count  Dtype         \n",
      "---  ------        --------------  -----         \n",
      " 0   date          820 non-null    datetime64[ns]\n",
      " 1   duration      820 non-null    float64       \n",
      " 2   item          820 non-null    object        \n",
      " 3   month         820 non-null    object        \n",
      " 4   network       820 non-null    object        \n",
      " 5   network_type  820 non-null    object        \n",
      "dtypes: datetime64[ns](1), float64(1), object(4)\n",
      "memory usage: 38.6+ KB\n"
     ]
    }
   ],
   "source": [
    "phone_df.info()"
   ]
  },
  {
   "cell_type": "markdown",
   "id": "e7dd506b",
   "metadata": {},
   "source": [
    "##### a) With 95% & 99% Confidence Interval find the range estimate of average duration calls made by all the network. Which of the Intervals are wider? Interpret the results."
   ]
  },
  {
   "cell_type": "code",
   "execution_count": 231,
   "id": "fc1f7729",
   "metadata": {},
   "outputs": [
    {
     "name": "stdout",
     "output_type": "stream",
     "text": [
      "The range estimate of average duration calls made by all the networks with confidence of 95% is:\n",
      " 141.17321160796186 and 147.43665951170905\n"
     ]
    }
   ],
   "source": [
    "n= len(phone_df['duration']) \n",
    "s= phone_df['duration'].std() \n",
    "x_bar= phone_df['duration'].mean()\n",
    "\n",
    "conf_lvl= 0.95         # 95%\n",
    "\n",
    "t= stats.t.isf((1-0.95)/2, df= n-1)\n",
    "l1= x_bar - (t * (s/(n**0.5)))\n",
    "u1= x_bar + (t * (s/(n**0.5)))\n",
    "print(\"The range estimate of average duration calls made by all the networks with confidence of 95% is:\\n\",l1,\"and\",u1)"
   ]
  },
  {
   "cell_type": "code",
   "execution_count": 232,
   "id": "feadb548",
   "metadata": {},
   "outputs": [
    {
     "name": "stdout",
     "output_type": "stream",
     "text": [
      "The range estimate of average duration calls made by all the networks with confidence of 99% is:\n",
      " 140.185636073024 and 148.4242350466469\n"
     ]
    }
   ],
   "source": [
    "n= len(phone_df['duration']) \n",
    "s= phone_df['duration'].std() \n",
    "x_bar= phone_df['duration'].mean()\n",
    "\n",
    "conf_lvl= 0.99         # 95%\n",
    "\n",
    "t= stats.t.isf((1-0.99)/2, df= n-1)\n",
    "l1= x_bar - (t * (s/(n**0.5)))\n",
    "u1= x_bar + (t * (s/(n**0.5)))\n",
    "print(\"The range estimate of average duration calls made by all the networks with confidence of 99% is:\\n\",l1,\"and\",u1)"
   ]
  },
  {
   "cell_type": "raw",
   "id": "08da91b9",
   "metadata": {},
   "source": [
    "Inference: \n",
    "\n",
    "-> The range estimate of average duration calls made by all the networks with confidence interval of 99% is wider when compared to that of the range estimate of average duration calls made by all the networks with confidence interval of 95%. \n",
    "\n",
    "-> The mean interval range increases with increased confidence interval so that it is approximately attains equality with the true mean of the population."
   ]
  },
  {
   "cell_type": "markdown",
   "id": "e181df41",
   "metadata": {},
   "source": [
    "##### b) Perform statistical analysis to check whether the networks are equally distributed in the dataset."
   ]
  },
  {
   "cell_type": "code",
   "execution_count": 172,
   "id": "274660b0",
   "metadata": {},
   "outputs": [
    {
     "data": {
      "text/plain": [
       "Three        215\n",
       "Vodafone     215\n",
       "data         150\n",
       "Meteor        87\n",
       "Tesco         84\n",
       "landline      42\n",
       "voicemail     27\n",
       "Name: network, dtype: int64"
      ]
     },
     "execution_count": 172,
     "metadata": {},
     "output_type": "execute_result"
    }
   ],
   "source": [
    "phone_df['network'].value_counts()"
   ]
  },
  {
   "cell_type": "code",
   "execution_count": 173,
   "id": "55c21190",
   "metadata": {},
   "outputs": [],
   "source": [
    "obs_cnt = np.array([215, 215, 150, 87, 84, 42, 27])\n",
    "\n",
    "exp_cnt = np.array([len(phone_df['network'])/7 for i in phone_df['network'].unique()])"
   ]
  },
  {
   "cell_type": "code",
   "execution_count": 174,
   "id": "9c50ab67",
   "metadata": {},
   "outputs": [
    {
     "data": {
      "text/plain": [
       "Power_divergenceResult(statistic=307.409756097561, pvalue=2.112592760257685e-63)"
      ]
     },
     "execution_count": 174,
     "metadata": {},
     "output_type": "execute_result"
    }
   ],
   "source": [
    "# Hypothesis formation \n",
    "\n",
    "# Ho: observed = expected \n",
    "# Ha: observed != expected  \n",
    "\n",
    "stats.chisquare(f_exp= exp_cnt, f_obs= obs_cnt)"
   ]
  },
  {
   "cell_type": "raw",
   "id": "0768a527",
   "metadata": {},
   "source": [
    "Inference: \n",
    "    \n",
    "-> Given significance level is 0.05 (by default) while the pValue derived is 0 \n",
    "-> Since the pValue is less than significance level, Ho is rejected and Ha can be selected \n",
    "-> So we infer that the observed proportion is not equal to that of expected proportion.\n",
    "-> Hence the proportion distribution of all the departments is not equal."
   ]
  },
  {
   "cell_type": "markdown",
   "id": "602e9d69",
   "metadata": {},
   "source": [
    "##### c) Plot the distribution of duration with respect to each network in the same graph and Interpret the results from the graph."
   ]
  },
  {
   "cell_type": "code",
   "execution_count": 175,
   "id": "e4ec306e",
   "metadata": {},
   "outputs": [
    {
     "data": {
      "text/plain": [
       "Three        215\n",
       "Vodafone     215\n",
       "data         150\n",
       "Meteor        87\n",
       "Tesco         84\n",
       "landline      42\n",
       "voicemail     27\n",
       "Name: network, dtype: int64"
      ]
     },
     "execution_count": 175,
     "metadata": {},
     "output_type": "execute_result"
    }
   ],
   "source": [
    "phone_df['network'].value_counts()"
   ]
  },
  {
   "cell_type": "code",
   "execution_count": 176,
   "id": "526033b7",
   "metadata": {},
   "outputs": [],
   "source": [
    "dur_three = phone_df[phone_df['network'] == 'Three']['duration']\n",
    "dur_vod = phone_df[phone_df['network'] == 'Vodafone']['duration']\n",
    "dur_data = phone_df[phone_df['network'] == 'data']['duration']\n",
    "dur_met = phone_df[phone_df['network'] == 'Meteor']['duration']\n",
    "dur_tesco = phone_df[phone_df['network'] == 'Tesco']['duration']\n",
    "dur_land = phone_df[phone_df['network'] == 'landline']['duration']\n",
    "dur_voice = phone_df[phone_df['network'] == 'voicemail']['duration']"
   ]
  },
  {
   "cell_type": "code",
   "execution_count": 177,
   "id": "54d584e8",
   "metadata": {},
   "outputs": [
    {
     "data": {
      "image/png": "[encoded data removed]",
      "text/plain": [
       "<Figure size 864x576 with 1 Axes>"
      ]
     },
     "metadata": {
      "needs_background": "light"
     },
     "output_type": "display_data"
    }
   ],
   "source": [
    "plt.figure(figsize= (12,8))\n",
    "sns.distplot(dur_three)\n",
    "sns.distplot(dur_vod)\n",
    "sns.distplot(dur_data)\n",
    "sns.distplot(dur_met)\n",
    "sns.distplot(dur_tesco)\n",
    "sns.distplot(dur_land)\n",
    "sns.distplot(dur_voice) \n",
    "plt.legend(['Three', 'Vodafone', 'data', 'Meteor', 'Tesco', 'landline', 'voicemail'])\n",
    "plt.show()"
   ]
  },
  {
   "cell_type": "raw",
   "id": "d31336b6",
   "metadata": {},
   "source": [
    "Inference: \n",
    "    \n",
    "-> From the graph, we could see that the distribution of duration with respect to each network is more or less similar. \n",
    "-> We could also see that the peaks of all the distribution approximately overlap and so it can also be infered from this as that the mean of call duration for all the networks are more or less equal. \n",
    "-> This can be statistically proved with One-way ANOVA method of hypothesis."
   ]
  },
  {
   "cell_type": "markdown",
   "id": "74b7543f",
   "metadata": {},
   "source": [
    "##### d) Perform statistical tests to identify the relation between item and duration. Detailed explanation of relation between the classes is required."
   ]
  },
  {
   "cell_type": "code",
   "execution_count": 178,
   "id": "4e2a5497",
   "metadata": {},
   "outputs": [
    {
     "data": {
      "text/plain": [
       "call    388\n",
       "sms     282\n",
       "data    150\n",
       "Name: item, dtype: int64"
      ]
     },
     "execution_count": 178,
     "metadata": {},
     "output_type": "execute_result"
    }
   ],
   "source": [
    "phone_df['item'].value_counts()"
   ]
  },
  {
   "cell_type": "code",
   "execution_count": 179,
   "id": "0cec81a6",
   "metadata": {},
   "outputs": [],
   "source": [
    "duration_call = phone_df[phone_df['item'] == 'call']['duration']\n",
    "duration_sms = phone_df[phone_df['item'] == 'sms']['duration']\n",
    "duration_data = phone_df[phone_df['item'] == 'data']['duration']"
   ]
  },
  {
   "cell_type": "code",
   "execution_count": 202,
   "id": "53534033",
   "metadata": {},
   "outputs": [
    {
     "name": "stdout",
     "output_type": "stream",
     "text": [
      "Shapiro test for sample - duration_call:\n",
      " ShapiroResult(statistic=0.9973042011260986, pvalue=0.7803382277488708) \n",
      "\n",
      "Shapiro test for sample - duration_sms:\n",
      " ShapiroResult(statistic=0.9943404197692871, pvalue=0.37839275598526) \n",
      "\n",
      "Shapiro test for sample - duration_data:\n",
      " ShapiroResult(statistic=0.9912639856338501, pvalue=0.48521795868873596) \n",
      "\n",
      "\n",
      "\n",
      "\n",
      "Test of variance for all three sample items:\n",
      " LeveneResult(statistic=3.4300976447008478, pvalue=0.03285087780533987) \n",
      "\n",
      "\n",
      "\n",
      "Levene test for - duration_call & duration_sms:\n",
      " LeveneResult(statistic=0.1986118328972824, pvalue=0.6559880731498395) \n",
      "\n",
      "Levene test for - duration_sms & duration_data:\n",
      " LeveneResult(statistic=6.5802914126186565, pvalue=0.010649597357420926) \n",
      "\n",
      "Levene test for - duration_call & duration_data:\n",
      " LeveneResult(statistic=4.997795914374391, pvalue=0.02579057825683839) \n",
      "\n",
      "\n",
      "\n",
      "\n",
      "ANOVA result for - duration_call & duration_sms:\n",
      " F_onewayResult(statistic=2.772571885758172, pvalue=0.09636087255994416)\n"
     ]
    }
   ],
   "source": [
    "# Test of Normality:  \n",
    "\n",
    "# Hypothesis formation for Shapiro test: \n",
    "# Ho: skew = 0 (Data is normal)\n",
    "# Ha: skew != 0 (Data is not normal)\n",
    "print(\"Shapiro test for sample - duration_call:\\n\", stats.shapiro(duration_call),'\\n')\n",
    "print(\"Shapiro test for sample - duration_sms:\\n\", stats.shapiro(duration_sms),'\\n')\n",
    "print(\"Shapiro test for sample - duration_data:\\n\", stats.shapiro(duration_data),'\\n\\n\\n')\n",
    "\n",
    "# Inference: \n",
    "# pValue of Shapiro test of duration data for each item (0.78, 0.37, 0.48) > significance value (0.05).\n",
    "# Hence, Ho is selected and so Data is normal.\n",
    "\n",
    "\n",
    "\n",
    "\n",
    "# Test for equality of variance: \n",
    "\n",
    "# Hypothesis formation for Levene test: \n",
    "# Ho: All variances are equal\n",
    "# Ha: Atleast one variance is different \n",
    "print()\n",
    "print(\"Test of variance for all three sample items:\\n\", stats.levene(duration_call, duration_sms, duration_data),'\\n\\n') \n",
    "\n",
    "# Inference: \n",
    "# pValue of Levene test of duration data for each item (0.032) < significance value (0.05).\n",
    "# Hence, Ha is selected and so atleast one variance is different. \n",
    "\n",
    "#### Determining which variance is different:\n",
    "print()\n",
    "print(\"Levene test for - duration_call & duration_sms:\\n\",stats.levene(duration_call, duration_sms),'\\n')\n",
    "print(\"Levene test for - duration_sms & duration_data:\\n\",stats.levene(duration_sms, duration_data),'\\n')\n",
    "print(\"Levene test for - duration_call & duration_data:\\n\",stats.levene(duration_call, duration_data),'\\n\\n\\n') \n",
    "\n",
    "# Inference: \n",
    "# pValue of Levene test for - duration_call & duration_sms > significance value (0.05). \n",
    "# Hence, in this case we can select null Hypothesis Ho. \n",
    "# Thus, we infer that only the variance for samples - duration_call & duration_sms are equal.\n",
    "\n",
    "\n",
    "\n",
    "\n",
    "# Hypothesis formation for ANOVA:\n",
    "# Ho: All means are equal (no relation)\n",
    "# Ha: Atleast one mean is different (relation exists)\n",
    "\n",
    "# Conditions for Anova: \n",
    "# 1) Data is normal \n",
    "# 2) Data has equal variance only for samples - duration_call & duration_sms\n",
    "\n",
    "# Inference: \n",
    "# Hence, one - way ANOVA can be applied only on samples - duration_call & duration_sms. \n",
    "\n",
    "print()\n",
    "print(\"ANOVA result for - duration_call & duration_sms:\\n\", stats.f_oneway(duration_call, duration_sms))"
   ]
  },
  {
   "cell_type": "raw",
   "id": "0ec8d325",
   "metadata": {},
   "source": [
    "Inference: \n",
    "\n",
    "-> pValue 0.09 > significance level 0.05 \n",
    "-> Hence, Ho can be selected and means of samples - duration_call & duration_sms are equal.\n",
    "-> So we can infer that there is no relation between duration of the item - call and the duration of item - sms."
   ]
  },
  {
   "cell_type": "markdown",
   "id": "bacaeed5",
   "metadata": {},
   "source": [
    "##### e) Perform statistical tests to identify the relation between network and network_type. "
   ]
  },
  {
   "cell_type": "code",
   "execution_count": 203,
   "id": "c646bc92",
   "metadata": {},
   "outputs": [
    {
     "data": {
      "text/html": [
       "<div>\n",
       "<style scoped>\n",
       "    .dataframe tbody tr th:only-of-type {\n",
       "        vertical-align: middle;\n",
       "    }\n",
       "\n",
       "    .dataframe tbody tr th {\n",
       "        vertical-align: top;\n",
       "    }\n",
       "\n",
       "    .dataframe thead th {\n",
       "        text-align: right;\n",
       "    }\n",
       "</style>\n",
       "<table border=\"1\" class=\"dataframe\">\n",
       "  <thead>\n",
       "    <tr style=\"text-align: right;\">\n",
       "      <th>network_type</th>\n",
       "      <th>data</th>\n",
       "      <th>landline</th>\n",
       "      <th>mobile</th>\n",
       "      <th>voicemail</th>\n",
       "    </tr>\n",
       "    <tr>\n",
       "      <th>network</th>\n",
       "      <th></th>\n",
       "      <th></th>\n",
       "      <th></th>\n",
       "      <th></th>\n",
       "    </tr>\n",
       "  </thead>\n",
       "  <tbody>\n",
       "    <tr>\n",
       "      <th>Meteor</th>\n",
       "      <td>0</td>\n",
       "      <td>0</td>\n",
       "      <td>87</td>\n",
       "      <td>0</td>\n",
       "    </tr>\n",
       "    <tr>\n",
       "      <th>Tesco</th>\n",
       "      <td>0</td>\n",
       "      <td>0</td>\n",
       "      <td>84</td>\n",
       "      <td>0</td>\n",
       "    </tr>\n",
       "    <tr>\n",
       "      <th>Three</th>\n",
       "      <td>0</td>\n",
       "      <td>0</td>\n",
       "      <td>215</td>\n",
       "      <td>0</td>\n",
       "    </tr>\n",
       "    <tr>\n",
       "      <th>Vodafone</th>\n",
       "      <td>0</td>\n",
       "      <td>0</td>\n",
       "      <td>215</td>\n",
       "      <td>0</td>\n",
       "    </tr>\n",
       "    <tr>\n",
       "      <th>data</th>\n",
       "      <td>150</td>\n",
       "      <td>0</td>\n",
       "      <td>0</td>\n",
       "      <td>0</td>\n",
       "    </tr>\n",
       "    <tr>\n",
       "      <th>landline</th>\n",
       "      <td>0</td>\n",
       "      <td>42</td>\n",
       "      <td>0</td>\n",
       "      <td>0</td>\n",
       "    </tr>\n",
       "    <tr>\n",
       "      <th>voicemail</th>\n",
       "      <td>0</td>\n",
       "      <td>0</td>\n",
       "      <td>0</td>\n",
       "      <td>27</td>\n",
       "    </tr>\n",
       "  </tbody>\n",
       "</table>\n",
       "</div>"
      ],
      "text/plain": [
       "network_type  data  landline  mobile  voicemail\n",
       "network                                        \n",
       "Meteor           0         0      87          0\n",
       "Tesco            0         0      84          0\n",
       "Three            0         0     215          0\n",
       "Vodafone         0         0     215          0\n",
       "data           150         0       0          0\n",
       "landline         0        42       0          0\n",
       "voicemail        0         0       0         27"
      ]
     },
     "execution_count": 203,
     "metadata": {},
     "output_type": "execute_result"
    }
   ],
   "source": [
    "# Hypothesis formation: \n",
    "# Ho: Network and Network-type are not related. \n",
    "# Ha: Network and Network-type are related.    \n",
    "\n",
    "obs = pd.crosstab(phone_df['network'], phone_df['network_type'])\n",
    "obs"
   ]
  },
  {
   "cell_type": "code",
   "execution_count": 206,
   "id": "e3465360",
   "metadata": {},
   "outputs": [
    {
     "name": "stdout",
     "output_type": "stream",
     "text": [
      "Test Statistics:  2460.0 \n",
      "\n",
      "pValue:  0.0 \n",
      "\n",
      "Degrees of freedom:  18 \n",
      "\n",
      "Expected:  [[ 15.91463415   4.45609756  63.76463415   2.86463415]\n",
      " [ 15.36585366   4.30243902  61.56585366   2.76585366]\n",
      " [ 39.32926829  11.01219512 157.57926829   7.07926829]\n",
      " [ 39.32926829  11.01219512 157.57926829   7.07926829]\n",
      " [ 27.43902439   7.68292683 109.93902439   4.93902439]\n",
      " [  7.68292683   2.15121951  30.78292683   1.38292683]\n",
      " [  4.93902439   1.38292683  19.78902439   0.88902439]]\n"
     ]
    }
   ],
   "source": [
    "test_stat, pval, dof, exp = stats.chi2_contingency(obs)\n",
    "\n",
    "print(\"Test Statistics: \", test_stat,'\\n')\n",
    "print(\"pValue: \", pval,'\\n') \n",
    "print(\"Degrees of freedom: \", dof,'\\n') \n",
    "print(\"Expected: \", exp)"
   ]
  },
  {
   "cell_type": "raw",
   "id": "c300f10f",
   "metadata": {},
   "source": [
    "Inference: \n",
    "\n",
    "-> Significance lvl is 0.05 while the pValue in this case is 0.\n",
    "-> As the pValue is less than significance lvl, Ho is rejected and Ha can be selected. \n",
    "-> Hence, Network and Network-Type are related."
   ]
  }
 ],
 "metadata": {
  "kernelspec": {
   "display_name": "Python 3",
   "language": "python",
   "name": "python3"
  },
  "language_info": {
   "codemirror_mode": {
    "name": "ipython",
    "version": 3
   },
   "file_extension": ".py",
   "mimetype": "text/x-python",
   "name": "python",
   "nbconvert_exporter": "python",
   "pygments_lexer": "ipython3",
   "version": "3.8.8"
  }
 },
 "nbformat": 4,
 "nbformat_minor": 5
}
